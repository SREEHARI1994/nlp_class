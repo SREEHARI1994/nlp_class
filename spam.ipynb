{
  "nbformat": 4,
  "nbformat_minor": 0,
  "metadata": {
    "colab": {
      "name": "spam.ipynb",
      "version": "0.3.2",
      "provenance": []
    },
    "kernelspec": {
      "name": "python3",
      "display_name": "Python 3"
    }
  },
  "cells": [
    {
      "cell_type": "code",
      "metadata": {
        "id": "fG_ZZuShyN8Q",
        "colab_type": "code",
        "colab": {}
      },
      "source": [
        "from sklearn.model_selection import train_test_split\n",
        "from sklearn.naive_bayes import MultinomialNB\n",
        "import pandas as pd"
      ],
      "execution_count": 0,
      "outputs": []
    },
    {
      "cell_type": "code",
      "metadata": {
        "id": "FWfyfxnzyRsC",
        "colab_type": "code",
        "colab": {}
      },
      "source": [
        "\n",
        "\n",
        "data = pd.read_csv('spambase.data', header=None)\n",
        "data.rename(columns={57:'is_spam'}, inplace=True)\n",
        "\n"
      ],
      "execution_count": 0,
      "outputs": []
    },
    {
      "cell_type": "code",
      "metadata": {
        "id": "9GAAvImcyiLp",
        "colab_type": "code",
        "colab": {}
      },
      "source": [
        "spam = data[data['is_spam'] == 1]\n",
        "ham = data[data['is_spam'] == 0]"
      ],
      "execution_count": 0,
      "outputs": []
    },
    {
      "cell_type": "code",
      "metadata": {
        "id": "gm4Rd-hoylDB",
        "colab_type": "code",
        "colab": {}
      },
      "source": [
        "spam_train, spam_test = train_test_split(spam, train_size=0.6)\n",
        "ham_train, ham_test = train_test_split(ham, train_size=0.6)\n",
        "\n",
        "\n",
        "X_train = ham_train.append(spam_train)\n",
        "y_train = X_train.pop('is_spam')"
      ],
      "execution_count": 0,
      "outputs": []
    },
    {
      "cell_type": "code",
      "metadata": {
        "id": "J01b3O8-yqpH",
        "colab_type": "code",
        "colab": {
          "base_uri": "https://localhost:8080/",
          "height": 34
        },
        "outputId": "ac8218e4-1281-40f3-be1e-a94822b67beb"
      },
      "source": [
        "\n",
        "\n",
        "X_test = ham_test.append(spam_test)\n",
        "y_test = X_test.pop('is_spam')\n",
        "\n",
        "\n",
        "\n",
        "\n",
        "spam_bayes = MultinomialNB()\n",
        "spam_bayes.fit(X_train, y_train)\n",
        "\n",
        "\n",
        "\n",
        "spam_bayes.score(X_test, y_test)\n",
        "\n",
        "\n"
      ],
      "execution_count": 17,
      "outputs": [
        {
          "output_type": "execute_result",
          "data": {
            "text/plain": [
              "0.7996742671009772"
            ]
          },
          "metadata": {
            "tags": []
          },
          "execution_count": 17
        }
      ]
    },
    {
      "cell_type": "code",
      "metadata": {
        "id": "HlUhdkrrzXyK",
        "colab_type": "code",
        "colab": {
          "base_uri": "https://localhost:8080/",
          "height": 34
        },
        "outputId": "1f8837d7-bcba-430c-93cc-cc90e60e09c4"
      },
      "source": [
        "spam_bayes.score(X_train, y_train)"
      ],
      "execution_count": 18,
      "outputs": [
        {
          "output_type": "execute_result",
          "data": {
            "text/plain": [
              "0.7883291047480971"
            ]
          },
          "metadata": {
            "tags": []
          },
          "execution_count": 18
        }
      ]
    }
  ]
}