{
  "nbformat": 4,
  "nbformat_minor": 0,
  "metadata": {
    "colab": {
      "name": "sreehari_nlp_sentiment.ipynb",
      "version": "0.3.2",
      "provenance": [],
      "collapsed_sections": []
    },
    "kernelspec": {
      "name": "python3",
      "display_name": "Python 3"
    }
  },
  "cells": [
    {
      "cell_type": "markdown",
      "metadata": {
        "id": "8ck9wrBqt01y",
        "colab_type": "text"
      },
      "source": [
        "**Here NAive Baayes Classifier is applied on tweets.csv dataset to classify the tweets into positive and negative. Towards the end of this notebook, testing is done using manually provided tweets**"
      ]
    },
    {
      "cell_type": "code",
      "metadata": {
        "id": "YCiWkNMDwuAR",
        "colab_type": "code",
        "outputId": "52eaafca-58da-41f2-fcf0-441cc4e94f3e",
        "colab": {
          "base_uri": "https://localhost:8080/",
          "height": 86
        }
      },
      "source": [
        "#Importing Required Libraries\n",
        "import nltk.classify.util\n",
        "from nltk.classify import NaiveBayesClassifier\n",
        "from nltk.corpus import movie_reviews\n",
        "from nltk.corpus import stopwords\n",
        "from nltk.tokenize import word_tokenize\n",
        "import pandas as pd\n",
        "nltk.download('stopwords')\n",
        "nltk.download('punkt')\n",
        "import re\n"
      ],
      "execution_count": 0,
      "outputs": [
        {
          "output_type": "stream",
          "text": [
            "[nltk_data] Downloading package stopwords to /root/nltk_data...\n",
            "[nltk_data]   Package stopwords is already up-to-date!\n",
            "[nltk_data] Downloading package punkt to /root/nltk_data...\n",
            "[nltk_data]   Unzipping tokenizers/punkt.zip.\n"
          ],
          "name": "stdout"
        }
      ]
    },
    {
      "cell_type": "code",
      "metadata": {
        "id": "LDw4VYlXymM4",
        "colab_type": "code",
        "colab": {}
      },
      "source": [
        "twitter=pd.read_csv('Tweets.csv')"
      ],
      "execution_count": 0,
      "outputs": []
    },
    {
      "cell_type": "code",
      "metadata": {
        "id": "lgakyHpS1D8A",
        "colab_type": "code",
        "outputId": "b348ee51-02e5-4af6-e701-f49907cb1b97",
        "colab": {
          "base_uri": "https://localhost:8080/",
          "height": 156
        }
      },
      "source": [
        "print(twitter.columns)\n",
        "print(len(twitter.columns))\n",
        "twitter.shape[0]\n",
        "twitter.shape[1]"
      ],
      "execution_count": 0,
      "outputs": [
        {
          "output_type": "stream",
          "text": [
            "Index(['tweet_id', 'airline_sentiment', 'airline_sentiment_confidence',\n",
            "       'negativereason', 'negativereason_confidence', 'airline',\n",
            "       'airline_sentiment_gold', 'name', 'negativereason_gold',\n",
            "       'retweet_count', 'text', 'tweet_coord', 'tweet_created',\n",
            "       'tweet_location', 'user_timezone'],\n",
            "      dtype='object')\n",
            "15\n"
          ],
          "name": "stdout"
        },
        {
          "output_type": "execute_result",
          "data": {
            "text/plain": [
              "15"
            ]
          },
          "metadata": {
            "tags": []
          },
          "execution_count": 4
        }
      ]
    },
    {
      "cell_type": "code",
      "metadata": {
        "id": "7ll3h3C635-D",
        "colab_type": "code",
        "outputId": "3a374c3f-ffab-4f8a-8934-be2d34843a90",
        "colab": {
          "base_uri": "https://localhost:8080/",
          "height": 52
        }
      },
      "source": [
        "print(twitter.shape[0])\n",
        "print(twitter.shape[1])"
      ],
      "execution_count": 0,
      "outputs": [
        {
          "output_type": "stream",
          "text": [
            "14640\n",
            "15\n"
          ],
          "name": "stdout"
        }
      ]
    },
    {
      "cell_type": "code",
      "metadata": {
        "id": "F2szfHHGwuBD",
        "colab_type": "code",
        "outputId": "7b60640f-dc31-49ed-d634-365455c1f990",
        "colab": {
          "base_uri": "https://localhost:8080/",
          "height": 34
        }
      },
      "source": [
        "# This is how the Naive Bayes classifier expects the input\n",
        "{'Hello': True,  'World': True}\n"
      ],
      "execution_count": 0,
      "outputs": [
        {
          "output_type": "execute_result",
          "data": {
            "text/plain": [
              "{'Hello': True, 'World': True}"
            ]
          },
          "metadata": {
            "tags": []
          },
          "execution_count": 6
        }
      ]
    },
    {
      "cell_type": "code",
      "metadata": {
        "id": "1Ryv6WCg2siZ",
        "colab_type": "code",
        "outputId": "f51ceda9-c268-43c9-9698-897e06acda93",
        "colab": {
          "base_uri": "https://localhost:8080/",
          "height": 69
        }
      },
      "source": [
        "\n",
        "#removing airline names from text\n",
        "\n",
        "\n",
        "airline=twitter['airline']\n",
        "print(airline[0])\n",
        "sree='@'+ airline[0].replace(\" \",\"\")\n",
        "print(sree)\n",
        "stop_airline=[]\n",
        "#print(airline[100:])\n",
        "for name in airline:\n",
        "  name=name.replace(\" \",\"\")\n",
        "  name='@'+name\n",
        "  stop_airline.append(name)\n",
        "  \n",
        "print(len(stop_airline))\n",
        "\n"
      ],
      "execution_count": 0,
      "outputs": [
        {
          "output_type": "stream",
          "text": [
            "Virgin America\n",
            "@VirginAmerica\n",
            "14640\n"
          ],
          "name": "stdout"
        }
      ]
    },
    {
      "cell_type": "code",
      "metadata": {
        "id": "32kOACRC_22J",
        "colab_type": "code",
        "outputId": "2c5516a1-49b6-454c-e8cc-f8675dc99df4",
        "colab": {
          "base_uri": "https://localhost:8080/",
          "height": 34
        }
      },
      "source": [
        "print(stop_airline[:5])"
      ],
      "execution_count": 0,
      "outputs": [
        {
          "output_type": "stream",
          "text": [
            "['@VirginAmerica', '@VirginAmerica', '@VirginAmerica', '@VirginAmerica', '@VirginAmerica']\n"
          ],
          "name": "stdout"
        }
      ]
    },
    {
      "cell_type": "code",
      "metadata": {
        "id": "EYCoCD0y5OuE",
        "colab_type": "code",
        "outputId": "ef4730f1-e617-43ea-85ac-1fb3e06475bc",
        "colab": {
          "base_uri": "https://localhost:8080/",
          "height": 52
        }
      },
      "source": [
        "#removing names from text\n",
        "\n",
        "stop_name=[]\n",
        "stop_name=stop_name+list(twitter['name'])\n",
        "for i in range(len(stop_name)):\n",
        "  stop_name[i]='@'+ stop_name[i]\n",
        "print(len(stop_name))\n",
        "print(stop_name[:5])"
      ],
      "execution_count": 0,
      "outputs": [
        {
          "output_type": "stream",
          "text": [
            "14640\n",
            "['@cairdin', '@jnardino', '@yvonnalynn', '@jnardino', '@jnardino']\n"
          ],
          "name": "stdout"
        }
      ]
    },
    {
      "cell_type": "code",
      "metadata": {
        "id": "r1DqHLDu57sw",
        "colab_type": "code",
        "colab": {}
      },
      "source": [
        "stop=[]\n",
        "standard_words=list(stopwords.words(\"english\"))\n",
        "stop=standard_words+stop_name +stop_airline"
      ],
      "execution_count": 0,
      "outputs": []
    },
    {
      "cell_type": "code",
      "metadata": {
        "id": "EUZTHN-P4uQx",
        "colab_type": "code",
        "colab": {}
      },
      "source": [
        "assert len(stop)==2*14640+179"
      ],
      "execution_count": 0,
      "outputs": []
    },
    {
      "cell_type": "code",
      "metadata": {
        "id": "RTS_aCDlwuB2",
        "colab_type": "code",
        "colab": {}
      },
      "source": [
        "#Defining a function to create word features (stopwords removal etc.) and processing the input text\n",
        "def create_word_features(words):\n",
        "    useful_words = [word for word in words if word not in stop]\n",
        "    my_dict = dict([(word, True) for word in useful_words])\n",
        "    return my_dict"
      ],
      "execution_count": 0,
      "outputs": []
    },
    {
      "cell_type": "code",
      "metadata": {
        "id": "kXKiSsX9wuCV",
        "colab_type": "code",
        "outputId": "3bdec22c-418a-4e4d-bc08-209e2856c4e1",
        "colab": {
          "base_uri": "https://localhost:8080/",
          "height": 34
        }
      },
      "source": [
        "#Testing the function\n",
        "create_word_features([\"the\", \"quick\", \"brown\", \"quick\", \"a\", \"fox\" ,\"@VirginAmerica\",\"@KCBobolz\"])"
      ],
      "execution_count": 0,
      "outputs": [
        {
          "output_type": "execute_result",
          "data": {
            "text/plain": [
              "{'brown': True, 'fox': True, 'quick': True}"
            ]
          },
          "metadata": {
            "tags": []
          },
          "execution_count": 13
        }
      ]
    },
    {
      "cell_type": "code",
      "metadata": {
        "id": "5Vx2X1pkwuCz",
        "colab_type": "code",
        "outputId": "afdd0c67-64a8-4808-9ced-5f6bd99ec414",
        "colab": {
          "base_uri": "https://localhost:8080/",
          "height": 156
        }
      },
      "source": [
        "neg_reviews = []\n",
        "neg=twitter[twitter.airline_sentiment==\"negative\"]\n",
        "print(neg[:5])\n",
        "text=neg['text']\n",
        "words=[]\n",
        "tweet_words=[]\n",
        "for word in text:\n",
        "  words.append(re.sub(\"[^\\w]\", \" \",  word).split())\n",
        "for i in words:\n",
        "  tweet_words=[]\n",
        "  for j in i:\n",
        "    tweet_words.append(j)\n",
        "  neg_reviews.append((create_word_features(tweet_words), \"negative\"))\n"
      ],
      "execution_count": 0,
      "outputs": [
        {
          "output_type": "stream",
          "text": [
            "              tweet_id  ...               user_timezone\n",
            "3   570301031407624196  ...  Pacific Time (US & Canada)\n",
            "4   570300817074462722  ...  Pacific Time (US & Canada)\n",
            "5   570300767074181121  ...  Pacific Time (US & Canada)\n",
            "15  570282469121007616  ...  Pacific Time (US & Canada)\n",
            "17  570276917301137409  ...  Eastern Time (US & Canada)\n",
            "\n",
            "[5 rows x 15 columns]\n"
          ],
          "name": "stdout"
        }
      ]
    },
    {
      "cell_type": "code",
      "metadata": {
        "id": "tcmi9vxOwuDP",
        "colab_type": "code",
        "outputId": "91665c70-5aa9-4272-bf3c-32104a06bffc",
        "colab": {
          "base_uri": "https://localhost:8080/",
          "height": 72
        }
      },
      "source": [
        "print(neg_reviews[0])    \n",
        "print(len(neg_reviews))"
      ],
      "execution_count": 0,
      "outputs": [
        {
          "output_type": "stream",
          "text": [
            "({'VirginAmerica': True, 'really': True, 'aggressive': True, 'blast': True, 'obnoxious': True, 'entertainment': True, 'guests': True, 'faces': True, 'amp': True, 'little': True, 'recourse': True}, 'negative')\n",
            "9178\n"
          ],
          "name": "stdout"
        }
      ]
    },
    {
      "cell_type": "code",
      "metadata": {
        "id": "7B5gdgdw1gaq",
        "colab_type": "code",
        "outputId": "dfb83950-a607-4e61-c209-0ada6d2151df",
        "colab": {
          "base_uri": "https://localhost:8080/",
          "height": 156
        }
      },
      "source": [
        "pos_reviews = []\n",
        "pos=twitter[twitter.airline_sentiment==\"positive\"]\n",
        "print(pos[:5])\n",
        "text=pos['text']\n",
        "words=[]\n",
        "tweet_words=[]\n",
        "for word in text:\n",
        "  words.append(re.sub(\"[^\\w]\", \" \",  word).split())\n",
        "for i in words:\n",
        "  tweet_words=[]\n",
        "  for j in i:\n",
        "    tweet_words.append(j)\n",
        "  pos_reviews.append((create_word_features(tweet_words), \"positive\"))\n",
        "  "
      ],
      "execution_count": 0,
      "outputs": [
        {
          "output_type": "stream",
          "text": [
            "              tweet_id  ...               user_timezone\n",
            "1   570301130888122368  ...  Pacific Time (US & Canada)\n",
            "6   570300616901320704  ...  Pacific Time (US & Canada)\n",
            "8   570299953286942721  ...  Pacific Time (US & Canada)\n",
            "9   570295459631263746  ...  Eastern Time (US & Canada)\n",
            "11  570289724453216256  ...            America/New_York\n",
            "\n",
            "[5 rows x 15 columns]\n"
          ],
          "name": "stdout"
        }
      ]
    },
    {
      "cell_type": "code",
      "metadata": {
        "id": "Lh6fI6hywuDp",
        "colab_type": "code",
        "outputId": "59e687cb-b465-4e4c-d90b-e03f2c28f4a8",
        "colab": {
          "base_uri": "https://localhost:8080/",
          "height": 72
        }
      },
      "source": [
        "print(pos_reviews[0])    \n",
        "print(len(pos_reviews))"
      ],
      "execution_count": 0,
      "outputs": [
        {
          "output_type": "stream",
          "text": [
            "({'VirginAmerica': True, 'plus': True, 'added': True, 'commercials': True, 'experience': True, 'tacky': True}, 'positive')\n",
            "2363\n"
          ],
          "name": "stdout"
        }
      ]
    },
    {
      "cell_type": "code",
      "metadata": {
        "id": "MWZp4diSwuED",
        "colab_type": "code",
        "outputId": "d1b518a8-c9cb-495b-f3c3-a3b5fe58415a",
        "colab": {
          "base_uri": "https://localhost:8080/",
          "height": 34
        }
      },
      "source": [
        "train_set = neg_reviews[:6000] + pos_reviews[:1800]\n",
        "test_set =  neg_reviews[6000:] + pos_reviews[1800:]\n",
        "print(len(train_set),  len(test_set))"
      ],
      "execution_count": 0,
      "outputs": [
        {
          "output_type": "stream",
          "text": [
            "7800 3741\n"
          ],
          "name": "stdout"
        }
      ]
    },
    {
      "cell_type": "code",
      "metadata": {
        "id": "JOzxraUDwuEg",
        "colab_type": "code",
        "colab": {}
      },
      "source": [
        "classifier = NaiveBayesClassifier.train(train_set)"
      ],
      "execution_count": 0,
      "outputs": []
    },
    {
      "cell_type": "code",
      "metadata": {
        "id": "aRrVS4G7wuE6",
        "colab_type": "code",
        "outputId": "92a5244c-04fc-4d74-dcd8-a6388d792554",
        "colab": {
          "base_uri": "https://localhost:8080/",
          "height": 34
        }
      },
      "source": [
        "accuracy = nltk.classify.util.accuracy(classifier, test_set)\n",
        "print(accuracy * 100)"
      ],
      "execution_count": 0,
      "outputs": [
        {
          "output_type": "stream",
          "text": [
            "90.32344292969793\n"
          ],
          "name": "stdout"
        }
      ]
    },
    {
      "cell_type": "markdown",
      "metadata": {
        "id": "TjLmKawh4Bs_",
        "colab_type": "text"
      },
      "source": [
        "**Testing using manually created tweets**"
      ]
    },
    {
      "cell_type": "code",
      "metadata": {
        "id": "OSm0IPAywuFc",
        "colab_type": "code",
        "outputId": "efdc73d9-c6a1-4360-b923-cc738a57317b",
        "colab": {
          "base_uri": "https://localhost:8080/",
          "height": 104
        }
      },
      "source": [
        "tweet_1 = '''\n",
        " \n",
        "This airline is a bad airline. I had a horrible experience.\n",
        "The staff assaulted me\n",
        "'''\n",
        "print(tweet_1)"
      ],
      "execution_count": 0,
      "outputs": [
        {
          "output_type": "stream",
          "text": [
            "\n",
            " \n",
            "This airline is a bad airline. I had a horrible experience.\n",
            "The staff assaulted me\n",
            "\n"
          ],
          "name": "stdout"
        }
      ]
    },
    {
      "cell_type": "code",
      "metadata": {
        "id": "uP4cf1SZwuF7",
        "colab_type": "code",
        "outputId": "a9acaf5d-9d82-4f6f-828d-c8ee6740ff0a",
        "colab": {
          "base_uri": "https://localhost:8080/",
          "height": 34
        }
      },
      "source": [
        "words = word_tokenize(tweet_1)\n",
        "words = create_word_features(words)\n",
        "classifier.classify(words)"
      ],
      "execution_count": 0,
      "outputs": [
        {
          "output_type": "execute_result",
          "data": {
            "text/plain": [
              "'negative'"
            ]
          },
          "metadata": {
            "tags": []
          },
          "execution_count": 45
        }
      ]
    },
    {
      "cell_type": "code",
      "metadata": {
        "id": "PSHj2L7KwuGU",
        "colab_type": "code",
        "outputId": "8507e180-5672-4d10-cfd0-0e0704ffd8e1",
        "colab": {
          "base_uri": "https://localhost:8080/",
          "height": 34
        }
      },
      "source": [
        "tweet_2 = \"This airline was too good. I had such a nice experience flying this airline\"\n",
        "print(tweet_2)"
      ],
      "execution_count": 0,
      "outputs": [
        {
          "output_type": "stream",
          "text": [
            "This airline was too good. I had such a nice experience flying this airline\n"
          ],
          "name": "stdout"
        }
      ]
    },
    {
      "cell_type": "code",
      "metadata": {
        "id": "D1ooEicpwuGp",
        "colab_type": "code",
        "outputId": "baf4efd1-7c09-42cd-bad2-ca3b6500be48",
        "colab": {
          "base_uri": "https://localhost:8080/",
          "height": 34
        }
      },
      "source": [
        "words = word_tokenize(tweet_2)\n",
        "words = create_word_features(words)\n",
        "classifier.classify(words)"
      ],
      "execution_count": 0,
      "outputs": [
        {
          "output_type": "execute_result",
          "data": {
            "text/plain": [
              "'positive'"
            ]
          },
          "metadata": {
            "tags": []
          },
          "execution_count": 47
        }
      ]
    }
  ]
}